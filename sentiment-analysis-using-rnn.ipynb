{
 "cells": [
  {
   "cell_type": "code",
   "execution_count": 152,
   "id": "cd98fd80",
   "metadata": {},
   "outputs": [],
   "source": [
    "import numpy as np\n",
    "import pandas as pd\n",
    "from tensorflow.keras.preprocessing.text import Tokenizer\n",
    "from tensorflow.keras.utils import pad_sequences, to_categorical\n",
    "from tensorflow.keras import Sequential\n",
    "from tensorflow.keras.layers import Dense,SimpleRNN,Embedding,Flatten\n",
    "from tensorflow.keras.optimizers import Adam\n",
    "import tensorflow as tf"
   ]
  },
  {
   "cell_type": "code",
   "execution_count": 117,
   "id": "f7ec385d",
   "metadata": {
    "execution": {
     "iopub.execute_input": "2023-12-14T10:41:28.905491Z",
     "iopub.status.busy": "2023-12-14T10:41:28.904714Z",
     "iopub.status.idle": "2023-12-14T10:41:29.153434Z",
     "shell.execute_reply": "2023-12-14T10:41:29.151974Z"
    },
    "papermill": {
     "duration": 0.263136,
     "end_time": "2023-12-14T10:41:29.156666",
     "exception": false,
     "start_time": "2023-12-14T10:41:28.893530",
     "status": "completed"
    },
    "tags": []
   },
   "outputs": [],
   "source": [
    "#loading dataset\n",
    "train_ds = pd.read_csv('Sentiment Analysis Dataset/train.csv',encoding='latin1')\n",
    "validation_ds = pd.read_csv('Sentiment Analysis Dataset/test.csv',encoding='latin1')\n",
    "\n",
    "train_ds = train_ds[['text','sentiment']]\n",
    "validation_ds = validation_ds[['text','sentiment']]"
   ]
  },
  {
   "cell_type": "code",
   "execution_count": 118,
   "id": "13a12522",
   "metadata": {
    "execution": {
     "iopub.execute_input": "2023-12-14T10:41:29.247457Z",
     "iopub.status.busy": "2023-12-14T10:41:29.246236Z",
     "iopub.status.idle": "2023-12-14T10:41:29.259337Z",
     "shell.execute_reply": "2023-12-14T10:41:29.257816Z"
    },
    "papermill": {
     "duration": 0.028756,
     "end_time": "2023-12-14T10:41:29.262882",
     "exception": false,
     "start_time": "2023-12-14T10:41:29.234126",
     "status": "completed"
    },
    "tags": []
   },
   "outputs": [],
   "source": [
    "#removing NULL\n",
    "train_ds['text'].fillna('',inplace=True)\n",
    "validation_ds['text'].fillna('',inplace=True)"
   ]
  },
  {
   "cell_type": "code",
   "execution_count": 119,
   "id": "f0990c87",
   "metadata": {
    "execution": {
     "iopub.execute_input": "2023-12-14T10:41:29.283547Z",
     "iopub.status.busy": "2023-12-14T10:41:29.283079Z",
     "iopub.status.idle": "2023-12-14T10:41:29.322140Z",
     "shell.execute_reply": "2023-12-14T10:41:29.320362Z"
    },
    "papermill": {
     "duration": 0.053409,
     "end_time": "2023-12-14T10:41:29.325600",
     "exception": false,
     "start_time": "2023-12-14T10:41:29.272191",
     "status": "completed"
    },
    "tags": []
   },
   "outputs": [],
   "source": [
    "#Turning 'positive' and 'negative' into numeric\n",
    "def func(sentiment):\n",
    "    if sentiment =='positive':\n",
    "        return 0\n",
    "    elif sentiment =='negative':\n",
    "        return 1\n",
    "    else:\n",
    "        return 2\n",
    "train_ds['sentiment'] = train_ds['sentiment'].apply(func)\n",
    "validation_ds['sentiment'] = validation_ds['sentiment'].apply(func)"
   ]
  },
  {
   "cell_type": "code",
   "execution_count": 120,
   "id": "2a46ec97",
   "metadata": {
    "execution": {
     "iopub.execute_input": "2023-12-14T10:41:29.345691Z",
     "iopub.status.busy": "2023-12-14T10:41:29.345199Z",
     "iopub.status.idle": "2023-12-14T10:41:29.387245Z",
     "shell.execute_reply": "2023-12-14T10:41:29.385733Z"
    },
    "papermill": {
     "duration": 0.056729,
     "end_time": "2023-12-14T10:41:29.391301",
     "exception": false,
     "start_time": "2023-12-14T10:41:29.334572",
     "status": "completed"
    },
    "tags": []
   },
   "outputs": [],
   "source": [
    "x_train = np.array(train_ds['text'].tolist())\n",
    "y_train = np.array(train_ds['sentiment'].tolist())\n",
    "x_test = np.array(validation_ds['text'].tolist())\n",
    "y_test = np.array(validation_ds['sentiment'].tolist())"
   ]
  },
  {
   "cell_type": "code",
   "execution_count": 121,
   "id": "1bf86f2f",
   "metadata": {
    "execution": {
     "iopub.execute_input": "2023-12-14T10:41:29.477734Z",
     "iopub.status.busy": "2023-12-14T10:41:29.477202Z",
     "iopub.status.idle": "2023-12-14T10:41:29.484529Z",
     "shell.execute_reply": "2023-12-14T10:41:29.483080Z"
    },
    "papermill": {
     "duration": 0.021018,
     "end_time": "2023-12-14T10:41:29.487421",
     "exception": false,
     "start_time": "2023-12-14T10:41:29.466403",
     "status": "completed"
    },
    "tags": []
   },
   "outputs": [],
   "source": [
    "y_train = to_categorical(y_train, 3)\n",
    "y_test = to_categorical(y_test, 3)"
   ]
  },
  {
   "cell_type": "code",
   "execution_count": 122,
   "id": "f6bc8706",
   "metadata": {
    "execution": {
     "iopub.execute_input": "2023-12-14T10:41:29.542779Z",
     "iopub.status.busy": "2023-12-14T10:41:29.542182Z",
     "iopub.status.idle": "2023-12-14T10:41:29.548312Z",
     "shell.execute_reply": "2023-12-14T10:41:29.546869Z"
    },
    "papermill": {
     "duration": 0.020653,
     "end_time": "2023-12-14T10:41:29.551180",
     "exception": false,
     "start_time": "2023-12-14T10:41:29.530527",
     "status": "completed"
    },
    "tags": []
   },
   "outputs": [],
   "source": [
    "#tokenizing the text\n",
    "tokenizer = Tokenizer(num_words=20000)\n",
    "\n",
    "tokenizer.fit_on_texts(x_train)\n",
    "tokenizer.fit_on_texts(x_test)"
   ]
  },
  {
   "cell_type": "code",
   "execution_count": 123,
   "id": "cf8f6d69",
   "metadata": {
    "execution": {
     "iopub.execute_input": "2023-12-14T10:41:30.700411Z",
     "iopub.status.busy": "2023-12-14T10:41:30.699823Z",
     "iopub.status.idle": "2023-12-14T10:41:31.695355Z",
     "shell.execute_reply": "2023-12-14T10:41:31.693677Z"
    },
    "papermill": {
     "duration": 1.01138,
     "end_time": "2023-12-14T10:41:31.699319",
     "exception": false,
     "start_time": "2023-12-14T10:41:30.687939",
     "status": "completed"
    },
    "tags": []
   },
   "outputs": [],
   "source": [
    "x_train = tokenizer.texts_to_sequences(x_train)\n",
    "x_test = tokenizer.texts_to_sequences(x_test)"
   ]
  },
  {
   "cell_type": "code",
   "execution_count": 124,
   "id": "06e61712",
   "metadata": {
    "execution": {
     "iopub.execute_input": "2023-12-14T10:41:31.723336Z",
     "iopub.status.busy": "2023-12-14T10:41:31.722825Z",
     "iopub.status.idle": "2023-12-14T10:41:31.905317Z",
     "shell.execute_reply": "2023-12-14T10:41:31.902684Z"
    },
    "papermill": {
     "duration": 0.199007,
     "end_time": "2023-12-14T10:41:31.909330",
     "exception": false,
     "start_time": "2023-12-14T10:41:31.710323",
     "status": "completed"
    },
    "tags": []
   },
   "outputs": [],
   "source": [
    "from keras.utils import pad_sequences\n",
    "x_train = pad_sequences(x_train, padding='post', maxlen=35) \n",
    "x_test = pad_sequences(x_test, padding='post', maxlen=35)  "
   ]
  },
  {
   "cell_type": "code",
   "execution_count": 144,
   "id": "de0443c6",
   "metadata": {
    "execution": {
     "iopub.execute_input": "2023-12-14T10:41:31.932865Z",
     "iopub.status.busy": "2023-12-14T10:41:31.932293Z",
     "iopub.status.idle": "2023-12-14T10:41:31.942110Z",
     "shell.execute_reply": "2023-12-14T10:41:31.940709Z"
    },
    "papermill": {
     "duration": 0.02619,
     "end_time": "2023-12-14T10:41:31.945656",
     "exception": false,
     "start_time": "2023-12-14T10:41:31.919466",
     "status": "completed"
    },
    "tags": []
   },
   "outputs": [
    {
     "data": {
      "text/plain": [
       "array([   1,  162,   19, 7713,   71,    1,  151,   49,    0,    0,    0,\n",
       "          0,    0,    0,    0,    0,    0,    0,    0,    0,    0,    0,\n",
       "          0,    0,    0,    0,    0,    0,    0,    0,    0,    0,    0,\n",
       "          0,    0])"
      ]
     },
     "execution_count": 144,
     "metadata": {},
     "output_type": "execute_result"
    }
   ],
   "source": [
    "x_train[0]"
   ]
  },
  {
   "cell_type": "code",
   "execution_count": 145,
   "id": "0c9a1041",
   "metadata": {
    "execution": {
     "iopub.execute_input": "2023-12-14T10:41:31.968561Z",
     "iopub.status.busy": "2023-12-14T10:41:31.967701Z",
     "iopub.status.idle": "2023-12-14T10:41:31.974787Z",
     "shell.execute_reply": "2023-12-14T10:41:31.973727Z"
    },
    "papermill": {
     "duration": 0.022125,
     "end_time": "2023-12-14T10:41:31.977523",
     "exception": false,
     "start_time": "2023-12-14T10:41:31.955398",
     "status": "completed"
    },
    "tags": []
   },
   "outputs": [
    {
     "data": {
      "text/plain": [
       "(27481, 35)"
      ]
     },
     "execution_count": 145,
     "metadata": {},
     "output_type": "execute_result"
    }
   ],
   "source": [
    "x_train.shape"
   ]
  },
  {
   "cell_type": "code",
   "execution_count": 190,
   "id": "742ae3f7",
   "metadata": {
    "execution": {
     "iopub.execute_input": "2023-12-14T10:41:32.001448Z",
     "iopub.status.busy": "2023-12-14T10:41:32.000864Z",
     "iopub.status.idle": "2023-12-14T10:41:32.351388Z",
     "shell.execute_reply": "2023-12-14T10:41:32.349735Z"
    },
    "papermill": {
     "duration": 0.371991,
     "end_time": "2023-12-14T10:41:32.360243",
     "exception": false,
     "start_time": "2023-12-14T10:41:31.988252",
     "status": "completed"
    },
    "tags": []
   },
   "outputs": [
    {
     "data": {
      "text/html": [
       "<pre style=\"white-space:pre;overflow-x:auto;line-height:normal;font-family:Menlo,'DejaVu Sans Mono',consolas,'Courier New',monospace\"><span style=\"font-weight: bold\">Model: \"sequential_10\"</span>\n",
       "</pre>\n"
      ],
      "text/plain": [
       "\u001b[1mModel: \"sequential_10\"\u001b[0m\n"
      ]
     },
     "metadata": {},
     "output_type": "display_data"
    },
    {
     "data": {
      "text/html": [
       "<pre style=\"white-space:pre;overflow-x:auto;line-height:normal;font-family:Menlo,'DejaVu Sans Mono',consolas,'Courier New',monospace\">┏━━━━━━━━━━━━━━━━━━━━━━━━━━━━━━━━━┳━━━━━━━━━━━━━━━━━━━━━━━━┳━━━━━━━━━━━━━━━┓\n",
       "┃<span style=\"font-weight: bold\"> Layer (type)                    </span>┃<span style=\"font-weight: bold\"> Output Shape           </span>┃<span style=\"font-weight: bold\">       Param # </span>┃\n",
       "┡━━━━━━━━━━━━━━━━━━━━━━━━━━━━━━━━━╇━━━━━━━━━━━━━━━━━━━━━━━━╇━━━━━━━━━━━━━━━┩\n",
       "│ embedding_10 (<span style=\"color: #0087ff; text-decoration-color: #0087ff\">Embedding</span>)        │ ?                      │   <span style=\"color: #00af00; text-decoration-color: #00af00\">0</span> (unbuilt) │\n",
       "├─────────────────────────────────┼────────────────────────┼───────────────┤\n",
       "│ simple_rnn_10 (<span style=\"color: #0087ff; text-decoration-color: #0087ff\">SimpleRNN</span>)       │ ?                      │   <span style=\"color: #00af00; text-decoration-color: #00af00\">0</span> (unbuilt) │\n",
       "├─────────────────────────────────┼────────────────────────┼───────────────┤\n",
       "│ dense_10 (<span style=\"color: #0087ff; text-decoration-color: #0087ff\">Dense</span>)                │ ?                      │   <span style=\"color: #00af00; text-decoration-color: #00af00\">0</span> (unbuilt) │\n",
       "└─────────────────────────────────┴────────────────────────┴───────────────┘\n",
       "</pre>\n"
      ],
      "text/plain": [
       "┏━━━━━━━━━━━━━━━━━━━━━━━━━━━━━━━━━┳━━━━━━━━━━━━━━━━━━━━━━━━┳━━━━━━━━━━━━━━━┓\n",
       "┃\u001b[1m \u001b[0m\u001b[1mLayer (type)                   \u001b[0m\u001b[1m \u001b[0m┃\u001b[1m \u001b[0m\u001b[1mOutput Shape          \u001b[0m\u001b[1m \u001b[0m┃\u001b[1m \u001b[0m\u001b[1m      Param #\u001b[0m\u001b[1m \u001b[0m┃\n",
       "┡━━━━━━━━━━━━━━━━━━━━━━━━━━━━━━━━━╇━━━━━━━━━━━━━━━━━━━━━━━━╇━━━━━━━━━━━━━━━┩\n",
       "│ embedding_10 (\u001b[38;5;33mEmbedding\u001b[0m)        │ ?                      │   \u001b[38;5;34m0\u001b[0m (unbuilt) │\n",
       "├─────────────────────────────────┼────────────────────────┼───────────────┤\n",
       "│ simple_rnn_10 (\u001b[38;5;33mSimpleRNN\u001b[0m)       │ ?                      │   \u001b[38;5;34m0\u001b[0m (unbuilt) │\n",
       "├─────────────────────────────────┼────────────────────────┼───────────────┤\n",
       "│ dense_10 (\u001b[38;5;33mDense\u001b[0m)                │ ?                      │   \u001b[38;5;34m0\u001b[0m (unbuilt) │\n",
       "└─────────────────────────────────┴────────────────────────┴───────────────┘\n"
      ]
     },
     "metadata": {},
     "output_type": "display_data"
    },
    {
     "data": {
      "text/html": [
       "<pre style=\"white-space:pre;overflow-x:auto;line-height:normal;font-family:Menlo,'DejaVu Sans Mono',consolas,'Courier New',monospace\"><span style=\"font-weight: bold\"> Total params: </span><span style=\"color: #00af00; text-decoration-color: #00af00\">0</span> (0.00 B)\n",
       "</pre>\n"
      ],
      "text/plain": [
       "\u001b[1m Total params: \u001b[0m\u001b[38;5;34m0\u001b[0m (0.00 B)\n"
      ]
     },
     "metadata": {},
     "output_type": "display_data"
    },
    {
     "data": {
      "text/html": [
       "<pre style=\"white-space:pre;overflow-x:auto;line-height:normal;font-family:Menlo,'DejaVu Sans Mono',consolas,'Courier New',monospace\"><span style=\"font-weight: bold\"> Trainable params: </span><span style=\"color: #00af00; text-decoration-color: #00af00\">0</span> (0.00 B)\n",
       "</pre>\n"
      ],
      "text/plain": [
       "\u001b[1m Trainable params: \u001b[0m\u001b[38;5;34m0\u001b[0m (0.00 B)\n"
      ]
     },
     "metadata": {},
     "output_type": "display_data"
    },
    {
     "data": {
      "text/html": [
       "<pre style=\"white-space:pre;overflow-x:auto;line-height:normal;font-family:Menlo,'DejaVu Sans Mono',consolas,'Courier New',monospace\"><span style=\"font-weight: bold\"> Non-trainable params: </span><span style=\"color: #00af00; text-decoration-color: #00af00\">0</span> (0.00 B)\n",
       "</pre>\n"
      ],
      "text/plain": [
       "\u001b[1m Non-trainable params: \u001b[0m\u001b[38;5;34m0\u001b[0m (0.00 B)\n"
      ]
     },
     "metadata": {},
     "output_type": "display_data"
    }
   ],
   "source": [
    "#building RNN model\n",
    "model = Sequential()\n",
    "model.add(Embedding(input_dim=20000, output_dim=5, input_length=100))\n",
    "model.add(SimpleRNN(32,return_sequences=False))\n",
    "model.add(Dense(3,activation='softmax'))\n",
    "model.summary()"
   ]
  },
  {
   "cell_type": "code",
   "execution_count": 198,
   "id": "b055a822",
   "metadata": {
    "execution": {
     "iopub.execute_input": "2023-12-14T10:41:32.386764Z",
     "iopub.status.busy": "2023-12-14T10:41:32.386184Z",
     "iopub.status.idle": "2023-12-14T10:41:32.413303Z",
     "shell.execute_reply": "2023-12-14T10:41:32.411157Z"
    },
    "papermill": {
     "duration": 0.046299,
     "end_time": "2023-12-14T10:41:32.418536",
     "exception": false,
     "start_time": "2023-12-14T10:41:32.372237",
     "status": "completed"
    },
    "tags": []
   },
   "outputs": [],
   "source": [
    "#compiling the model\n",
    "model.compile(optimizer='adam', loss='categorical_crossentropy', metrics=['accuracy'])"
   ]
  },
  {
   "cell_type": "code",
   "execution_count": 200,
   "id": "e7e0d3fb",
   "metadata": {},
   "outputs": [
    {
     "name": "stdout",
     "output_type": "stream",
     "text": [
      "Epoch 1/10\n",
      "\u001b[1m859/859\u001b[0m \u001b[32m━━━━━━━━━━━━━━━━━━━━\u001b[0m\u001b[37m\u001b[0m \u001b[1m4s\u001b[0m 3ms/step - accuracy: 0.4467 - loss: 1.0439 - val_accuracy: 0.3942 - val_loss: 0.8874\n",
      "Epoch 2/10\n",
      "\u001b[1m859/859\u001b[0m \u001b[32m━━━━━━━━━━━━━━━━━━━━\u001b[0m\u001b[37m\u001b[0m \u001b[1m3s\u001b[0m 3ms/step - accuracy: 0.6544 - loss: 0.7858 - val_accuracy: 0.7485 - val_loss: 0.7013\n",
      "Epoch 3/10\n",
      "\u001b[1m859/859\u001b[0m \u001b[32m━━━━━━━━━━━━━━━━━━━━\u001b[0m\u001b[37m\u001b[0m \u001b[1m3s\u001b[0m 3ms/step - accuracy: 0.7374 - loss: 0.6520 - val_accuracy: 0.7481 - val_loss: 0.6625\n",
      "Epoch 4/10\n",
      "\u001b[1m859/859\u001b[0m \u001b[32m━━━━━━━━━━━━━━━━━━━━\u001b[0m\u001b[37m\u001b[0m \u001b[1m4s\u001b[0m 4ms/step - accuracy: 0.7987 - loss: 0.5354 - val_accuracy: 0.7479 - val_loss: 0.6773\n",
      "Epoch 5/10\n",
      "\u001b[1m859/859\u001b[0m \u001b[32m━━━━━━━━━━━━━━━━━━━━\u001b[0m\u001b[37m\u001b[0m \u001b[1m4s\u001b[0m 4ms/step - accuracy: 0.8387 - loss: 0.4402 - val_accuracy: 0.7356 - val_loss: 0.7140\n",
      "Epoch 6/10\n",
      "\u001b[1m859/859\u001b[0m \u001b[32m━━━━━━━━━━━━━━━━━━━━\u001b[0m\u001b[37m\u001b[0m \u001b[1m3s\u001b[0m 4ms/step - accuracy: 0.8711 - loss: 0.3662 - val_accuracy: 0.7352 - val_loss: 0.7067\n",
      "Epoch 7/10\n",
      "\u001b[1m859/859\u001b[0m \u001b[32m━━━━━━━━━━━━━━━━━━━━\u001b[0m\u001b[37m\u001b[0m \u001b[1m3s\u001b[0m 3ms/step - accuracy: 0.8948 - loss: 0.3102 - val_accuracy: 0.7202 - val_loss: 0.8653\n",
      "Epoch 8/10\n",
      "\u001b[1m859/859\u001b[0m \u001b[32m━━━━━━━━━━━━━━━━━━━━\u001b[0m\u001b[37m\u001b[0m \u001b[1m3s\u001b[0m 3ms/step - accuracy: 0.9009 - loss: 0.2880 - val_accuracy: 0.7337 - val_loss: 0.7632\n",
      "Epoch 9/10\n",
      "\u001b[1m859/859\u001b[0m \u001b[32m━━━━━━━━━━━━━━━━━━━━\u001b[0m\u001b[37m\u001b[0m \u001b[1m3s\u001b[0m 3ms/step - accuracy: 0.9200 - loss: 0.2426 - val_accuracy: 0.7304 - val_loss: 0.8418\n",
      "Epoch 10/10\n",
      "\u001b[1m859/859\u001b[0m \u001b[32m━━━━━━━━━━━━━━━━━━━━\u001b[0m\u001b[37m\u001b[0m \u001b[1m3s\u001b[0m 3ms/step - accuracy: 0.9239 - loss: 0.2265 - val_accuracy: 0.7196 - val_loss: 0.8549\n"
     ]
    }
   ],
   "source": [
    "#training\n",
    "history = model.fit(x_train, y_train, epochs=10, validation_data=(x_test, y_test))"
   ]
  },
  {
   "cell_type": "code",
   "execution_count": 176,
   "id": "83c0bb1d",
   "metadata": {
    "execution": {
     "iopub.execute_input": "2023-12-14T10:43:16.733568Z",
     "iopub.status.busy": "2023-12-14T10:43:16.732523Z",
     "iopub.status.idle": "2023-12-14T10:43:17.043765Z",
     "shell.execute_reply": "2023-12-14T10:43:17.042736Z"
    },
    "papermill": {
     "duration": 0.497197,
     "end_time": "2023-12-14T10:43:17.047967",
     "exception": false,
     "start_time": "2023-12-14T10:43:16.550770",
     "status": "completed"
    },
    "tags": []
   },
   "outputs": [
    {
     "data": {
      "image/png": "[encoded data removed]",
      "text/plain": [
       "<Figure size 640x480 with 1 Axes>"
      ]
     },
     "metadata": {},
     "output_type": "display_data"
    }
   ],
   "source": [
    "#performance plot\n",
    "import matplotlib.pyplot as plt\n",
    "plt.plot(history.history['accuracy'])\n",
    "plt.plot(history.history['val_accuracy'])\n",
    "plt.show()"
   ]
  },
  {
   "cell_type": "code",
   "execution_count": 131,
   "id": "45d5b9e0",
   "metadata": {},
   "outputs": [],
   "source": [
    "# testing\n",
    "def predict(text):\n",
    "    new_text_seq = tokenizer.texts_to_sequences([text])\n",
    "    new_text_padded = pad_sequences(new_text_seq, padding='post', maxlen=100)  \n",
    "    predictions = model.predict(new_text_padded)\n",
    "    predicted_class_index = predictions.argmax(axis=-1)\n",
    "    if predicted_class_index[0] == 0:\n",
    "        return \"Positive Sentiment\"\n",
    "    elif predicted_class_index[0] == 1:\n",
    "        return \"Negative Sentiment\"\n",
    "    else:\n",
    "        return \"Neutral Sentiment\"\n"
   ]
  },
  {
   "cell_type": "code",
   "execution_count": 132,
   "id": "e5024226",
   "metadata": {},
   "outputs": [
    {
     "name": "stdout",
     "output_type": "stream",
     "text": [
      "WARNING:tensorflow:5 out of the last 22 calls to <function TensorFlowTrainer.make_predict_function.<locals>.one_step_on_data_distributed at 0x0000025A2FF0F880> triggered tf.function retracing. Tracing is expensive and the excessive number of tracings could be due to (1) creating @tf.function repeatedly in a loop, (2) passing tensors with different shapes, (3) passing Python objects instead of tensors. For (1), please define your @tf.function outside of the loop. For (2), @tf.function has reduce_retracing=True option that can avoid unnecessary retracing. For (3), please refer to https://www.tensorflow.org/guide/function#controlling_retracing and https://www.tensorflow.org/api_docs/python/tf/function for  more details.\n",
      "\u001b[1m1/1\u001b[0m \u001b[32m━━━━━━━━━━━━━━━━━━━━\u001b[0m\u001b[37m\u001b[0m \u001b[1m0s\u001b[0m 84ms/step\n"
     ]
    },
    {
     "data": {
      "text/plain": [
       "'Negative Sentiment'"
      ]
     },
     "execution_count": 132,
     "metadata": {},
     "output_type": "execute_result"
    }
   ],
   "source": [
    "predict(\"The movie was bad, i will not recommend this movie to anyone\")"
   ]
  },
  {
   "cell_type": "code",
   "execution_count": 133,
   "id": "c78554c2",
   "metadata": {},
   "outputs": [
    {
     "name": "stdout",
     "output_type": "stream",
     "text": [
      "\u001b[1m1/1\u001b[0m \u001b[32m━━━━━━━━━━━━━━━━━━━━\u001b[0m\u001b[37m\u001b[0m \u001b[1m0s\u001b[0m 35ms/step\n"
     ]
    },
    {
     "data": {
      "text/plain": [
       "'Positive Sentiment'"
      ]
     },
     "execution_count": 133,
     "metadata": {},
     "output_type": "execute_result"
    }
   ],
   "source": [
    "predict(\"The movie was good, i will recommend this movie to anyone\")"
   ]
  },
  {
   "cell_type": "code",
   "execution_count": 134,
   "id": "8dcafd6e",
   "metadata": {},
   "outputs": [
    {
     "name": "stdout",
     "output_type": "stream",
     "text": [
      "\u001b[1m1/1\u001b[0m \u001b[32m━━━━━━━━━━━━━━━━━━━━\u001b[0m\u001b[37m\u001b[0m \u001b[1m0s\u001b[0m 22ms/step\n"
     ]
    },
    {
     "data": {
      "text/plain": [
       "'Positive Sentiment'"
      ]
     },
     "execution_count": 134,
     "metadata": {},
     "output_type": "execute_result"
    }
   ],
   "source": [
    "predict(\"The movie was mid,  i will recommend this movie to anyone\")"
   ]
  },
  {
   "cell_type": "code",
   "execution_count": null,
   "id": "9e9a71d3",
   "metadata": {},
   "outputs": [],
   "source": []
  }
 ],
 "metadata": {
  "kaggle": {
   "accelerator": "none",
   "dataSources": [
    {
     "datasetId": 989445,
     "sourceId": 1808590,
     "sourceType": "datasetVersion"
    }
   ],
   "dockerImageVersionId": 30626,
   "isGpuEnabled": false,
   "isInternetEnabled": true,
   "language": "python",
   "sourceType": "notebook"
  },
  "kernelspec": {
   "display_name": "Python 3",
   "language": "python",
   "name": "python3"
  },
  "language_info": {
   "codemirror_mode": {
    "name": "ipython",
    "version": 3
   },
   "file_extension": ".py",
   "mimetype": "text/x-python",
   "name": "python",
   "nbconvert_exporter": "python",
   "pygments_lexer": "ipython3",
   "version": "3.12.0"
  },
  "papermill": {
   "default_parameters": {},
   "duration": 134.893881,
   "end_time": "2023-12-14T10:43:20.982662",
   "environment_variables": {},
   "exception": null,
   "input_path": "__notebook__.ipynb",
   "output_path": "__notebook__.ipynb",
   "parameters": {},
   "start_time": "2023-12-14T10:41:06.088781",
   "version": "2.4.0"
  }
 },
 "nbformat": 4,
 "nbformat_minor": 5
}
